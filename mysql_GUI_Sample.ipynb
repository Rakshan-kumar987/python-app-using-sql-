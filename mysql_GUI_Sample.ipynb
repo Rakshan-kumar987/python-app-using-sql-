{
 "cells": [
  {
   "cell_type": "code",
   "execution_count": 1,
   "metadata": {},
   "outputs": [
    {
     "name": "stdout",
     "output_type": "stream",
     "text": [
      "Note: you may need to restart the kernel to use updated packages.\n"
     ]
    },
    {
     "name": "stderr",
     "output_type": "stream",
     "text": [
      "'C:\\Users\\sai' is not recognized as an internal or external command,\n",
      "operable program or batch file.\n"
     ]
    }
   ],
   "source": []
  },
  {
   "cell_type": "code",
   "execution_count": 2,
   "metadata": {},
   "outputs": [
    {
     "ename": "ModuleNotFoundError",
     "evalue": "No module named 'mysql'",
     "output_type": "error",
     "traceback": [
      "\u001b[1;31m---------------------------------------------------------------------------\u001b[0m",
      "\u001b[1;31mModuleNotFoundError\u001b[0m                       Traceback (most recent call last)",
      "\u001b[1;32m<ipython-input-2-279c9ccc8d3e>\u001b[0m in \u001b[0;36m<module>\u001b[1;34m\u001b[0m\n\u001b[0;32m      1\u001b[0m \u001b[1;31m#pip install mysql-connector-python\u001b[0m\u001b[1;33m\u001b[0m\u001b[1;33m\u001b[0m\u001b[1;33m\u001b[0m\u001b[0m\n\u001b[1;32m----> 2\u001b[1;33m \u001b[1;32mfrom\u001b[0m \u001b[0mmysql\u001b[0m \u001b[1;32mimport\u001b[0m \u001b[0mconnector\u001b[0m\u001b[1;33m\u001b[0m\u001b[1;33m\u001b[0m\u001b[0m\n\u001b[0m\u001b[0;32m      3\u001b[0m \u001b[1;32mfrom\u001b[0m \u001b[0mgetpass\u001b[0m \u001b[1;32mimport\u001b[0m \u001b[0mgetpass\u001b[0m\u001b[1;33m\u001b[0m\u001b[1;33m\u001b[0m\u001b[0m\n\u001b[0;32m      4\u001b[0m \u001b[1;32mimport\u001b[0m \u001b[0mpandas\u001b[0m \u001b[1;32mas\u001b[0m \u001b[0mpd\u001b[0m\u001b[1;33m\u001b[0m\u001b[1;33m\u001b[0m\u001b[0m\n\u001b[0;32m      5\u001b[0m \u001b[1;32mimport\u001b[0m \u001b[0mPySimpleGUI\u001b[0m \u001b[1;32mas\u001b[0m \u001b[0msg\u001b[0m\u001b[1;33m\u001b[0m\u001b[1;33m\u001b[0m\u001b[0m\n",
      "\u001b[1;31mModuleNotFoundError\u001b[0m: No module named 'mysql'"
     ]
    }
   ],
   "source": [
    "#pip install mysql-connector-python\n",
    "from mysql import connector\n",
    "from getpass import getpass\n",
    "import pandas as pd\n",
    "import PySimpleGUI as sg"
   ]
  },
  {
   "cell_type": "code",
   "execution_count": null,
   "metadata": {},
   "outputs": [],
   "source": []
  },
  {
   "cell_type": "code",
   "execution_count": null,
   "metadata": {},
   "outputs": [],
   "source": [
    "mysql_con = connector.connect(host=\"localhost\", user = \"sql new\", password = \"123456\")\n",
    "print(\"Mysql Connection: \", mysql_con)"
   ]
  },
  {
   "cell_type": "code",
   "execution_count": null,
   "metadata": {},
   "outputs": [],
   "source": [
    "def sakila_db(query):\n",
    "    db = \"use sakila;\"\n",
    "    with connector.connect(\n",
    "        host = \"localhost\", \n",
    "        user = \"sql new\", \n",
    "        password = \"123456\") as mysqlcon:\n",
    "        print(mysqlcon)\n",
    "        cur = mysqlcon.cursor()\n",
    "        print(cur)\n",
    "        cur.execute(db)\n",
    "        cur.execute(query)\n",
    "        for db in cur:\n",
    "            print(db)\n",
    "\n",
    "    "
   ]
  },
  {
   "cell_type": "code",
   "execution_count": null,
   "metadata": {},
   "outputs": [],
   "source": [
    "  def sakila():  \n",
    "    \n",
    "    sg.theme(\"DarkRed\")\n",
    "    title=\"Queries of Lifespan Table\"\n",
    "    \n",
    "    layout=[[sg.Text(\"Country with the Shortest Lifespan\", size=(30,2)), \n",
    "                sg.Button(\"Click\", key=\"one\",size=(10,2))], \n",
    "            [sg.Text(\"Average Lifespan in each Continent\", size=(30,2)), \n",
    "                sg.Button(\"Click\", key=\"two\",size=(10,2))], \n",
    "            [sg.Text(\"Countries with lifespan higher than the world's average\", size=(30,2)), \n",
    "                 sg.Button(\"Click\", key=\"three\",size=(10,2))], \n",
    "            [sg.Text(\"Average Lifespan of each Country along with Continent\", size=(30,2)), \n",
    "                 sg.Button(\"Click\", key=\"four\",size=(10,2))], \n",
    "            [sg.Text(\"Countries with life expectancy over 65\", size=(30,2)), \n",
    "                sg.Button(\"Click\", key=\"five\",size=(10,2))], \n",
    "            [sg.Text(\"Asian Countries with higher than European Countries' life expectancy\", size=(30,2)), \n",
    "                 sg.Button(\"Click\", key=\"six\",size=(10,2))]]\n",
    "    \n",
    "      \n",
    "    #submit_line=[sg.Submit(\"Apply\"), sg.Cancel()]\n",
    "    #layout=[first_line, second_line,third_line]\n",
    "    window=sg.Window(title,layout)\n",
    "    \n",
    "    while True:\n",
    "        event,value=window.read()\n",
    "                \n",
    "        if event == \"one\":\n",
    "            query = \"select LifeExpectancy, name from country where LifeExpectancy = (select min(LifeExpectancy) from country);\"\n",
    "            sakila_db(query)\n",
    "        \n",
    "        if event == \"two\":\n",
    "            query = \"select avg(LifeExpectancy), continent from country group by continent;\"\n",
    "            sakila_db(query)\n",
    "        \n",
    "        if event == \"three\":\n",
    "            query = \"select * from country where LifeExpectancy > (select avg(LifeExpectancy) from country);\"\n",
    "            sakila_db(query)\n",
    "        \n",
    "        if event == \"four\":\n",
    "            query = \"select continent, name, avg(LifeExpectancy) Avg_LE from country group by continent, name with rollup;\"\n",
    "            sakila_db(query)\n",
    "        \n",
    "        if event == \"five\":\n",
    "            query = \"select continent, name, avg(LifeExpectancy) Avg_LE from country group by continent, name with rollup having Avg_LE > 65;\"\n",
    "            sakila_db(query)\n",
    "         \n",
    "        if event == \"six\":\n",
    "            query = \"select name, lifeexpectancy from country where continent = 'Asia' and lifeexpectancy < (select max(lifeexpectancy) from country where continent = 'Europe');\"\n",
    "            sakila_db(query)\n",
    "        \n",
    "       \n",
    "            #new_width,new_height=im_new.size\n",
    "            #print(new_width,new_height)            \n",
    "            window.close()\n",
    "            #Image_Text.textOnImage(name,text,fontsize) \n",
    "            \n",
    "        if  event == sg.WIN_CLOSED:\n",
    "            break\n",
    "    window.close()  "
   ]
  },
  {
   "cell_type": "code",
   "execution_count": null,
   "metadata": {},
   "outputs": [],
   "source": [
    "def real_time():\n",
    "    layout = [ \n",
    "    [sg.Text(\"Enter to Query from 'sakila' and 'world' Database\")], \n",
    "    [sg.Text('Enter the Database and Query', size =(22, 1)), \n",
    "     sg.InputText(\"sakila/world\"), sg.Text('Query', size =(5, 1)), sg.InputText(\"Query\")], \n",
    "    [sg.Text('', size =(95, 1)), sg.Submit(), sg.Cancel()]] \n",
    "  \n",
    "    window = sg.Window('User Input MYSQL Query', layout) \n",
    "    event, values = window.read() \n",
    "    window.close() \n",
    "  \n",
    "    db = \"use\" + \" \" + values[0] + \";\"\n",
    "    query = values[1] + \";\"    \n",
    "    with connector.connect(\n",
    "        host = \"localhost\", \n",
    "        user = \"sql new\", \n",
    "        password = \"123456\") as mysqlcon:\n",
    "        print(mysqlcon)\n",
    "        cur = mysqlcon.cursor()\n",
    "        print(cur)\n",
    "        cur.execute(db)\n",
    "        cur.execute(query)\n",
    "        df = pd.DataFrame(cur.fetchall())\n",
    "        print(df)\n",
    "\n",
    "real_time()   "
   ]
  },
  {
   "cell_type": "code",
   "execution_count": null,
   "metadata": {},
   "outputs": [],
   "source": [
    "title=\"SQL QUERY GUI \"\n",
    "sg.theme(\"DarkRed\")\n",
    "title=\"SQL GUI\"    \n",
    "main_line = [sg.Text(size=(10,1)), sg.Text(\"Click the Buttons\")]\n",
    "\n",
    "layout=[[sg.Text(\"Click the Buttons\")],\n",
    "        [sg.Button(\"Sakila Database\", key=\"sakila\", size=(20,3)),sg.Button(\"Own Database\", key=\"own\", size=(20,3))]] \n",
    "\n",
    "\n",
    "window=sg.Window(title,layout)\n",
    "    \n",
    "while True:\n",
    "    event,value=window.read()   \n",
    "\n",
    "    if event == \"sakila\":\n",
    "        sakila()\n",
    "        \n",
    "    if event == \"own\":\n",
    "        real_time()\n",
    "    \n",
    " \n",
    "    if event == sg.WIN_CLOSED:\n",
    "        break\n",
    "window.close() "
   ]
  }
 ],
 "metadata": {
  "kernelspec": {
   "display_name": "Python 3",
   "language": "python",
   "name": "python3"
  },
  "language_info": {
   "codemirror_mode": {
    "name": "ipython",
    "version": 3
   },
   "file_extension": ".py",
   "mimetype": "text/x-python",
   "name": "python",
   "nbconvert_exporter": "python",
   "pygments_lexer": "ipython3",
   "version": "3.8.3"
  }
 },
 "nbformat": 4,
 "nbformat_minor": 4
}
